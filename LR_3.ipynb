{
 "cells": [
  {
   "cell_type": "markdown",
   "metadata": {},
   "source": [
    "Метод Гаусса"
   ]
  },
  {
   "cell_type": "code",
   "execution_count": 38,
   "metadata": {},
   "outputs": [
    {
     "name": "stdout",
     "output_type": "stream",
     "text": [
      "[ 2. -1.  4.]\n"
     ]
    }
   ],
   "source": [
    "import numpy as np\n",
    "\n",
    "def gaussMethod(M):\n",
    "    for nLine, line in enumerate(M):\n",
    "        pivot = line[nLine]\n",
    "        line /= pivot\n",
    "        for lower_line in M[nLine+1:]:\n",
    "            coeff = lower_line[nLine]\n",
    "            lower_line -= coeff * line\n",
    "    for nLine in range(len(M)- 1,0,-1):\n",
    "        line = M[nLine]\n",
    "        for upper_line in M[:nLine]:\n",
    "            coeff = upper_line[nLine]\n",
    "            upper_line[-1] -= coeff*line[-1]\n",
    "            upper_line[nLine] = 0\n",
    "    return M\n",
    "\n",
    "A = np.array([[1, 4, 3, 10],\n",
    "              [2, 1, -1, -1],\n",
    "              [3, -1, 1, 11]], dtype=float)\n",
    "\n",
    "print(gaussMethod(A)[:, -1])"
   ]
  },
  {
   "cell_type": "markdown",
   "metadata": {},
   "source": [
    "Метод прямоугольника"
   ]
  },
  {
   "cell_type": "code",
   "execution_count": 49,
   "metadata": {},
   "outputs": [
    {
     "name": "stdout",
     "output_type": "stream",
     "text": [
      "[ 2. -1.  4.]\n"
     ]
    }
   ],
   "source": [
    "import copy\n",
    "import numpy as np\n",
    "\n",
    "def gauss_exceptions_method(M):\n",
    "    matrix_size = len(M)\n",
    "    \n",
    "    for k in range(matrix_size):\n",
    "        m_copy = copy.deepcopy(M)\n",
    "        dig_el = M[k][k]\n",
    "        \n",
    "        for i in range(k, matrix_size):\n",
    "            for j in range(matrix_size + 1):\n",
    "                if i > k and j <= k:\n",
    "                    M[i][j] = 0\n",
    "                elif i == k:\n",
    "                    M[i][j] /= dig_el\n",
    "                else:\n",
    "                    M[i][j] -= m_copy[k][j] * m_copy[i][k] / dig_el\n",
    "\n",
    "    for i in range(matrix_size - 1, 0, -1):\n",
    "        for upper_row in M[:i]:\n",
    "            upper_row[-1] -= upper_row[i] * M[i][-1]\n",
    "            upper_row[i] = 0\n",
    "\n",
    "    return np.array(M[:, -1])\n",
    "\n",
    "A = np.array([[1, 4, 3, 10],\n",
    "              [2, 1, -1, -1],\n",
    "              [3, -1, 1, 11]], dtype=float)\n",
    "\n",
    "print(gauss_exceptions_method(A))  \n"
   ]
  },
  {
   "cell_type": "markdown",
   "metadata": {},
   "source": [
    "Выбор ведущего элемента"
   ]
  },
  {
   "cell_type": "code",
   "execution_count": 37,
   "metadata": {},
   "outputs": [
    {
     "name": "stdout",
     "output_type": "stream",
     "text": [
      "[ 2.83333333 -2.5         6.66666667]\n"
     ]
    }
   ],
   "source": [
    "import numpy as np\n",
    "\n",
    "def gaussMethod(M):\n",
    "    n = len(M)\n",
    "    for i in range(n):\n",
    "        maxEl = abs(M[i:, i]).argmax() + i\n",
    "        if maxEl != i:\n",
    "            M[[i, maxEl]] = M[[maxEl, i]]\n",
    "        pivot = M[i, i]\n",
    "        M[i] /= pivot\n",
    "        for j in range(i+1, n):\n",
    "            M[j] -= M[j, i] * M[i]\n",
    "    for i in range(n-1,0,-1):\n",
    "        for j in range(i):\n",
    "            coeff = M[j, i]\n",
    "            M[j] -= coeff * M[i]\n",
    "    return M\n",
    "\n",
    "A = np.array([[0, 4, 3, 10],\n",
    "              [2, 0, -1, -1],\n",
    "              [3, -1, 0, 11]], dtype=float)\n",
    "\n",
    "print(gaussMethod(A)[:, -1])\n"
   ]
  },
  {
   "cell_type": "markdown",
   "metadata": {},
   "source": [
    "Метод простых итераций"
   ]
  },
  {
   "cell_type": "code",
   "execution_count": 36,
   "metadata": {},
   "outputs": [
    {
     "name": "stdout",
     "output_type": "stream",
     "text": [
      "[1.00000007 1.00000008 1.0000001 ]\n"
     ]
    }
   ],
   "source": [
    "import numpy as np\n",
    "\n",
    "def find_coeff(M):\n",
    "    n, _ = M.shape\n",
    "    for i in range(n):\n",
    "        maxEl = abs(M[i:, i]).argmax() + i\n",
    "        if maxEl != i:\n",
    "            M[[i, maxEl]] = M[[maxEl, i]]\n",
    "    for i in range(n):\n",
    "        curr_el = M[i, i]\n",
    "        M[i] /= -curr_el\n",
    "        M[i, i] = 0\n",
    "    A, b = M[:, :n], (-1) * M[:, n]\n",
    "    return A, b\n",
    "\n",
    "def simple_iter_method(A, b, x_0, max_iterations=100, eps=1e-6):\n",
    "    for iter in range(max_iterations):\n",
    "        x_k = np.dot(A, x_0) + b\n",
    "        norm_vec = sum((x_k[i] - x_0[i]) ** 2 for i in range(len(x_k)))**0.5\n",
    "        norm_matrix = sum((A[i, j])**2 for i in range(A.shape[0]) for j in range(A.shape[1]))**0.5\n",
    "        flag = (norm_matrix*norm_vec)/(1 - norm_matrix)\n",
    "        if flag<eps:\n",
    "            return x_k\n",
    "        x_0 = x_k\n",
    "    return x_k\n",
    "\n",
    "matrix = np.array([[2, 2, 10, 14],\n",
    "                   [10, 1, 1, 12],\n",
    "                   [2, 10, 1, 13]], dtype=float)\n",
    "\n",
    "A, b = find_coeff(matrix)\n",
    "\n",
    "print(simple_iter_method(A, b, x_0=b,max_iterations=10000000, eps=1e-6))\n"
   ]
  },
  {
   "cell_type": "markdown",
   "metadata": {},
   "source": [
    "Метод Зейделя"
   ]
  },
  {
   "cell_type": "code",
   "execution_count": 35,
   "metadata": {},
   "outputs": [
    {
     "name": "stdout",
     "output_type": "stream",
     "text": [
      "[1.00000013 1.00000016 0.99999816]\n"
     ]
    }
   ],
   "source": [
    "import copy, numpy as np\n",
    "\n",
    "def find_coeff(M):\n",
    "    n, _ = M.shape\n",
    "    for i in range(n):\n",
    "        maxEl = abs(M[i:, i]).argmax() + i\n",
    "        if maxEl != i:\n",
    "            M[[i, maxEl]] = M[[maxEl, i]]\n",
    "    for i in range(n):\n",
    "        curr_el = M[i, i]\n",
    "        M[i] /= -curr_el\n",
    "        M[i, i] = 0\n",
    "    A, b = M[:, :n], (-1) * M[:, n]\n",
    "    return A, b\n",
    "\n",
    "def seidel_iter_method(A, b, x_0, max_iterations=100, eps=1e-6):\n",
    "    x_k = copy.deepcopy(x_0)\n",
    "    for iter in range(max_iterations):\n",
    "        x_k[iter%len(x_k)] = np.dot(A[iter%len(x_k),:], np.column_stack([x_0])) + b[iter%len(x_k)]\n",
    "        norm_vec = sum((x_k[i] - x_0[i]) ** 2 for i in range(len(x_k)))**0.5\n",
    "        norm_matrix = sum((A[i, j])**2 for i in range(A.shape[0]) for j in range(A.shape[1]))**0.5\n",
    "        flag = (norm_matrix*norm_vec)/(1 - norm_matrix)\n",
    "        if flag<eps:\n",
    "            return x_k\n",
    "        x_0 = copy.deepcopy(x_k)\n",
    "    return x_k\n",
    "\n",
    "matrix = np.array([[2, 2, 10, 14],\n",
    "                   [10, 1, 1, 12],\n",
    "                   [2, 10, 1, 13]], dtype=float)\n",
    "\n",
    "A, b = find_coeff(matrix)\n",
    "\n",
    "print(seidel_iter_method(A, b, x_0=b,max_iterations=10000000, eps=1e-6))"
   ]
  }
 ],
 "metadata": {
  "kernelspec": {
   "display_name": "Python 3",
   "language": "python",
   "name": "python3"
  },
  "language_info": {
   "codemirror_mode": {
    "name": "ipython",
    "version": 3
   },
   "file_extension": ".py",
   "mimetype": "text/x-python",
   "name": "python",
   "nbconvert_exporter": "python",
   "pygments_lexer": "ipython3",
   "version": "3.11.3"
  }
 },
 "nbformat": 4,
 "nbformat_minor": 2
}
