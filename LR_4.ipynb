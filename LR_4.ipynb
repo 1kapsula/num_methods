{
 "cells": [
  {
   "cell_type": "markdown",
   "metadata": {},
   "source": [
    "Степенной метод"
   ]
  },
  {
   "cell_type": "code",
   "execution_count": 8,
   "metadata": {},
   "outputs": [
    {
     "name": "stdout",
     "output_type": "stream",
     "text": [
      "Собственное значение: 6.895106181094966\n",
      "Собственный вектор: [0.752536   0.43178113 0.49724704]\n"
     ]
    }
   ],
   "source": [
    "import numpy as np\n",
    "\n",
    "def power_iteration(b_k ,A, max_iterations = 100, eps = 1e-6):\n",
    "    lamb = 0 \n",
    "    for _ in range(max_iterations):\n",
    "        b_k1 = np.dot(A, b_k)\n",
    "\n",
    "        b_k1_norm = np.sqrt(np.sum(b_k1**2))\n",
    "        lamb_next = b_k1_norm / np.sqrt(np.sum(b_k**2))\n",
    "\n",
    "        deviation = np.abs(lamb_next - lamb)\n",
    "\n",
    "        b_k = b_k1 / b_k1_norm\n",
    "\n",
    "        if deviation < eps:\n",
    "            break\n",
    "\n",
    "        lamb = lamb_next\n",
    "\n",
    "    return lamb, b_k\n",
    "\n",
    "A = np.array([[5, 1, 2],\n",
    "              [1, 4, 1],\n",
    "              [2, 1, 3]])\n",
    "b_k = np.ones(A.shape[1]) # начальное приближение\n",
    "\n",
    "eps = 1e-6\n",
    "max_iterations = 100\n",
    "\n",
    "self_val, vec = power_iteration(b_k, A, max_iterations, eps)\n",
    "\n",
    "print(\"Собственное значение:\", self_val)\n",
    "print(\"Собственный вектор:\", vec)\n"
   ]
  },
  {
   "cell_type": "markdown",
   "metadata": {},
   "source": [
    "Метод вращения"
   ]
  },
  {
   "cell_type": "code",
   "execution_count": 15,
   "metadata": {},
   "outputs": [
    {
     "name": "stdout",
     "output_type": "stream",
     "text": [
      "Собственные значения:\n",
      "[1.70759841 6.89510652 3.39729507]\n",
      "Собственные векторы:\n",
      "[[ 0.47319874  0.75257583  0.45794385]\n",
      " [ 0.17059871  0.43170413 -0.88573564]\n",
      " [-0.86427949  0.49725362  0.07589338]]\n"
     ]
    }
   ],
   "source": [
    "import numpy as np\n",
    "\n",
    "def rotation(A, max_iterations=100, eps=1e-10):\n",
    "    n = A.shape[0]\n",
    "    self_val = np.diag(A)\n",
    "    vec = np.eye(n)\n",
    "\n",
    "    for _ in range(max_iterations):\n",
    "        m_dig = np.abs(A - np.diag(np.diag(A))).max()\n",
    "        if m_dig < eps:\n",
    "            break\n",
    "\n",
    "        max_idx = np.argmax(np.abs(A - np.diag(np.diag(A))))\n",
    "        p, q = divmod(max_idx, n)\n",
    "\n",
    "        if A[p, q] == 0:\n",
    "            beta = np.pi / 4\n",
    "        else:\n",
    "            phi = 0.5 * np.arctan(2 * A[p, q] / (A[q, q] - A[p, p]))\n",
    "            beta = np.sign(phi) * np.pi / 2 - phi\n",
    "\n",
    "        rotation = np.eye(n)\n",
    "        rotation[p, p] = np.cos(beta)\n",
    "        rotation[p, q] = -np.sin(beta)\n",
    "        rotation[q, p] = np.sin(beta)\n",
    "        rotation[q, q] = np.cos(beta)\n",
    "\n",
    "        A = rotation.T @ A @ rotation\n",
    "        vec = vec @ rotation\n",
    "        self_val = np.diag(A)\n",
    "\n",
    "    return self_val, vec\n",
    "\n",
    "A = np.array([[5, 1, 2],\n",
    "              [1, 4, 1],\n",
    "              [2, 1, 3]])\n",
    "eps = 1e-10\n",
    "max_iterations = 100\n",
    "\n",
    "self_val, vec = rotation(A, max_iterations, eps)\n",
    "\n",
    "print(\"Собственные значения:\")\n",
    "print(self_val)\n",
    "\n",
    "print(\"Собственные векторы:\")\n",
    "print(vec)\n",
    "\n"
   ]
  }
 ],
 "metadata": {
  "kernelspec": {
   "display_name": "Python 3",
   "language": "python",
   "name": "python3"
  },
  "language_info": {
   "codemirror_mode": {
    "name": "ipython",
    "version": 3
   },
   "file_extension": ".py",
   "mimetype": "text/x-python",
   "name": "python",
   "nbconvert_exporter": "python",
   "pygments_lexer": "ipython3",
   "version": "3.11.3"
  }
 },
 "nbformat": 4,
 "nbformat_minor": 2
}
