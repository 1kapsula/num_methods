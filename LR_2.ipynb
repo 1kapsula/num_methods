{
 "cells": [
  {
   "cell_type": "markdown",
   "metadata": {},
   "source": [
    "Метод Ньютона-Бройдена"
   ]
  },
  {
   "cell_type": "code",
   "execution_count": 15,
   "metadata": {},
   "outputs": [
    {
     "name": "stdout",
     "output_type": "stream",
     "text": [
      "0.7972810584819514\n"
     ]
    }
   ],
   "source": [
    "def solve(f,x):\n",
    "    s = 0\n",
    "    for i in range(len(f)):\n",
    "        s += x**i * f[i]\n",
    "    return s\n",
    "\n",
    "def d(f):\n",
    "    df = [0] * (len(f) - 1)\n",
    "    for i in range(1, len(f)):\n",
    "        df[i-1] = i * f[i]\n",
    "    return df\n",
    "\n",
    "def newton_method(f, df, x0, eps, c = 1, curr_iter = 1, max_iter=10e5): #c = 1 - метод Ньютона \n",
    "    x = x0 - c * solve(f, x0) / solve(df, x0)\n",
    "    if abs((x-x0) / (1.0 - (x - x0) / (x0 - x))) < eps:\n",
    "        return x\n",
    "    else:\n",
    "        if max_iter > curr_iter:\n",
    "            return newton_method(f, df, x, eps, curr_iter=curr_iter+1)\n",
    "        else:\n",
    "            return None\n",
    "    \n",
    "f = [-10, 10, 0, 4]\n",
    "x0 = 2 #начальное приближение\n",
    "eps = 10e-6\n",
    "c = 1\n",
    "print(newton_method(f, d(f), x0, eps, c)) #c = 1 - default - метод Ньютона  "
   ]
  },
  {
   "cell_type": "markdown",
   "metadata": {},
   "source": [
    "Упрощенный метод Ньютона"
   ]
  },
  {
   "cell_type": "code",
   "execution_count": 19,
   "metadata": {},
   "outputs": [
    {
     "name": "stdout",
     "output_type": "stream",
     "text": [
      "0.7973195821925678\n"
     ]
    }
   ],
   "source": [
    "def solve(f,x):\n",
    "    s = 0\n",
    "    for i in range(len(f)):\n",
    "        s += x**i * f[i]\n",
    "    return s\n",
    "\n",
    "def d(f):\n",
    "    df = [0] * (len(f) - 1)\n",
    "    for i in range(1, len(f)):\n",
    "        df[i-1] = i * f[i]\n",
    "    return df\n",
    "\n",
    "def newton_method(f, default, x0, eps, curr_iter = 1, max_iter=10e5):\n",
    "    x = x0 - solve(f, x0) / default\n",
    "    if abs((x-x0) / (1.0 - (x - x0) / (x0 - x))) < eps:\n",
    "        return x\n",
    "    else:\n",
    "        if max_iter > curr_iter:\n",
    "            return newton_method(f, default, x, eps, curr_iter=curr_iter+1)\n",
    "        else:\n",
    "            return None\n",
    "        \n",
    "f = [-10, 10, 0, 4]\n",
    "x0 = 2 #начальное приближение\n",
    "default = solve(d(f), x0) #f'(x0)\n",
    "eps = 10e-6\n",
    "print(newton_method(f, default, x0, eps))"
   ]
  },
  {
   "cell_type": "markdown",
   "metadata": {},
   "source": [
    "Метод секущих"
   ]
  },
  {
   "cell_type": "code",
   "execution_count": 20,
   "metadata": {},
   "outputs": [
    {
     "name": "stdout",
     "output_type": "stream",
     "text": [
      "0.7972810570822615\n"
     ]
    }
   ],
   "source": [
    "def solve(f,x):\n",
    "    s = 0\n",
    "    for i in range(len(f)):\n",
    "        s += x**i * f[i]\n",
    "    return s\n",
    "\n",
    "def newton_method(f, default, x0, eps, curr_iter = 1, max_iter=10e5):\n",
    "    x = x0 - solve(f, x0) / default\n",
    "    if abs((x-x0) / (1.0 - (x - x0) / (x0 - x))) < eps:\n",
    "        return x\n",
    "    else:\n",
    "        if max_iter > curr_iter:\n",
    "            df = (solve(f, x) - solve(f, x0)) / (x - x0)\n",
    "            return newton_method(f, df, x, eps, curr_iter=curr_iter+1)\n",
    "        else:\n",
    "            return None\n",
    "        \n",
    "f = [-10, 10, 0, 4]\n",
    "x0 = -12 #начальное приближение\n",
    "delta = 2\n",
    "default = (solve(f, x0) - solve(f, x0 - delta)) / delta\n",
    "print(newton_method(f, default, x0, 10e-6))"
   ]
  }
 ],
 "metadata": {
  "kernelspec": {
   "display_name": "Python 3",
   "language": "python",
   "name": "python3"
  },
  "language_info": {
   "codemirror_mode": {
    "name": "ipython",
    "version": 3
   },
   "file_extension": ".py",
   "mimetype": "text/x-python",
   "name": "python",
   "nbconvert_exporter": "python",
   "pygments_lexer": "ipython3",
   "version": "3.11.3"
  },
  "orig_nbformat": 4
 },
 "nbformat": 4,
 "nbformat_minor": 2
}
