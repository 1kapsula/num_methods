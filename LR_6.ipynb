{
 "cells": [
  {
   "cell_type": "code",
   "execution_count": 31,
   "metadata": {},
   "outputs": [
    {
     "name": "stdout",
     "output_type": "stream",
     "text": [
      "3.25\n",
      "3.25\n",
      "3.25\n",
      "3.5546875\n"
     ]
    }
   ],
   "source": [
    "import numpy as np\n",
    "\n",
    "def calc_divided_difference(x, y):\n",
    "    n = len(x)\n",
    "    divided_diff_matrix = np.zeros((n, n), dtype=float)\n",
    "    divided_diff_matrix[:, 0] = y\n",
    "\n",
    "    for j in range(1, n):\n",
    "        for i in range(n - j):\n",
    "            divided_diff_matrix[i, j] = (divided_diff_matrix[i + 1, j - 1] - divided_diff_matrix[i, j - 1]) / (x[i + j] - x[i])\n",
    "\n",
    "    return divided_diff_matrix[0]\n",
    "\n",
    "def newton_interpolation_kus(x, y, xi):\n",
    "    n = len(x)\n",
    "    f = calc_divided_difference(x, y)\n",
    "    p = f[0]\n",
    "    for i in range(1, n):\n",
    "        product = f[i]\n",
    "        for j in range(i):\n",
    "            product *= (xi - x[j])\n",
    "        p += product\n",
    "    return p\n",
    "\n",
    "def calc_delta_f(x, y):\n",
    "    n = len(x)\n",
    "    delta_f_matrix = np.zeros((n, n), dtype=float)\n",
    "    delta_f_matrix[:, 0] = y\n",
    "\n",
    "    for j in range(1, n):\n",
    "        for i in range(n - j):\n",
    "            delta_f_matrix[i, j] = (delta_f_matrix[i + 1, j - 1] - delta_f_matrix[i, j - 1])\n",
    "\n",
    "    return delta_f_matrix\n",
    "\n",
    "def newton_interpolation_1(x, y, xi, h):\n",
    "    q = (xi - x[0]) / h\n",
    "    delta_f_values = calc_delta_f(x, y)[0]\n",
    "    p = delta_f_values[0]\n",
    "    fact = 1\n",
    "\n",
    "    for i in range(1, len(delta_f_values)):\n",
    "        product = delta_f_values[i]\n",
    "        for j in range(i):\n",
    "            product *= (q - j)\n",
    "        p += product / fact\n",
    "        fact *= (i + 1)\n",
    "    return p\n",
    "\n",
    "def newton_interpolation_2(x, y, xi, h):\n",
    "    q = (xi - x[3]) / h\n",
    "    delta_f_matrix = calc_delta_f(x, y)\n",
    "    p = delta_f_matrix[-1, 0]\n",
    "    fact = 1\n",
    "\n",
    "    for i in range(1, len(delta_f_matrix)):\n",
    "        product = delta_f_matrix[-1 - i, i]\n",
    "        for j in range(i):\n",
    "            product *= (q + j)\n",
    "        p += product / fact\n",
    "        fact *= (i + 1)\n",
    "    return p\n",
    "\n",
    "X = [0, 1, 2, 3]\n",
    "Y = [1, 2, 4, 1]\n",
    "print(newton_interpolation_kus(X, Y, 1.5))\n",
    "print(newton_interpolation_1(X, Y, 1.5, 1))\n",
    "print(newton_interpolation_2(X, Y, 1.5, 1))\n",
    "X = [0, 1, 2, 3, 4]\n",
    "Y = [1, 2, 4, 1, 0]\n",
    "print(newton_interpolation_1(X, Y, 1.5, 1))\n"
   ]
  }
 ],
 "metadata": {
  "kernelspec": {
   "display_name": "Python 3",
   "language": "python",
   "name": "python3"
  },
  "language_info": {
   "codemirror_mode": {
    "name": "ipython",
    "version": 3
   },
   "file_extension": ".py",
   "mimetype": "text/x-python",
   "name": "python",
   "nbconvert_exporter": "python",
   "pygments_lexer": "ipython3",
   "version": "3.11.3"
  }
 },
 "nbformat": 4,
 "nbformat_minor": 2
}
