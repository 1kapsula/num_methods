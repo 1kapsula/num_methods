{
 "cells": [
  {
   "cell_type": "markdown",
   "metadata": {},
   "source": [
    "Глобальный способ"
   ]
  },
  {
   "cell_type": "code",
   "execution_count": 28,
   "metadata": {},
   "outputs": [
    {
     "name": "stdout",
     "output_type": "stream",
     "text": [
      "2.0625\n"
     ]
    }
   ],
   "source": [
    "import numpy as np\n",
    "\n",
    "def gaussMethod(M):\n",
    "    for nLine, line in enumerate(M):\n",
    "        pivot = line[nLine]\n",
    "        line /= pivot\n",
    "        for lower_line in M[nLine + 1:]:\n",
    "            coeff = lower_line[nLine]\n",
    "            lower_line -= coeff * line\n",
    "    for nLine in range(len(M) - 1, 0, -1):\n",
    "        line = M[nLine]\n",
    "        for upper_line in M[:nLine]:\n",
    "            coeff = upper_line[nLine]\n",
    "            upper_line[-1] -= coeff*line[-1]\n",
    "            upper_line[nLine] = 0\n",
    "    return M\n",
    "\n",
    "x = np.array([3, 4, 5, 6], dtype=float)\n",
    "f = np.array([1, 0, 4, 2], dtype=float)\n",
    "\n",
    "w = np.array([[x[i] ** j for j in range(len(x))] for i in range(len(x))])\n",
    "\n",
    "W = np.c_[w , f.T]\n",
    "\n",
    "A = gaussMethod(W)[:, -1]\n",
    "X = 4.5\n",
    "ans = 0\n",
    "\n",
    "for i in range(len(A)):\n",
    "    ans += A[i] * X ** i \n",
    "\n",
    "print(ans)\n"
   ]
  },
  {
   "cell_type": "markdown",
   "metadata": {},
   "source": [
    "Кусочный - линейная интерполяция"
   ]
  },
  {
   "cell_type": "code",
   "execution_count": 29,
   "metadata": {},
   "outputs": [
    {
     "name": "stdout",
     "output_type": "stream",
     "text": [
      "2.0\n"
     ]
    }
   ],
   "source": [
    "import numpy as np\n",
    "\n",
    "x = np.array([3, 4, 5, 6], dtype=float)\n",
    "f = np.array([1, 0, 4, 2], dtype=float)\n",
    "\n",
    "X = 4.5\n",
    "i = 1\n",
    "\n",
    "P1 = (X - x[i+1]) / (x[i] - x[i+1])\n",
    "P2 = (X - x[i]) / (x[i + 1] - x[i])\n",
    "ans = 0\n",
    "\n",
    "if(P1 + P2 == 1):\n",
    "    ans = P1*f[i] + P2*f[i+1]\n",
    "print(ans)"
   ]
  },
  {
   "cell_type": "markdown",
   "metadata": {},
   "source": [
    "Кусочный - параболическая интерполяция"
   ]
  },
  {
   "cell_type": "code",
   "execution_count": 38,
   "metadata": {},
   "outputs": [
    {
     "name": "stdout",
     "output_type": "stream",
     "text": [
      "2.0625\n"
     ]
    }
   ],
   "source": [
    "import numpy as np\n",
    "\n",
    "def p1(x, X, i):\n",
    "    return ((X - x[i + 1]) * (X - x[i + 2])) / ((x[i] - x[i + 1]) * (x[i] - x[i + 2]))\n",
    "\n",
    "def p2(x, X, i):\n",
    "    return ((X - x[i]) * (X - x[i + 2])) / ((x[i + 1] - x[i]) * (x[i + 1] - x[i + 2] ))\n",
    "\n",
    "def p3(x, X, i):\n",
    "    return ((X - x[i]) * (X - x[i + 1])) / ((x[i + 2] - x[i]) * (x[i + 2] - x[i + 1]))\n",
    "\n",
    "x = np.array([3, 4, 5, 6], dtype=float)\n",
    "f = np.array([1, 0, 4, 2], dtype=float)\n",
    "\n",
    "X = 4.5\n",
    "\n",
    "i = 1\n",
    "\n",
    "l1 = p1(x, X, i - 1) * f[i - 1] + p2(x, X, i - 1) * f[i] + p3(x, X, i - 1) * f[i+1]\n",
    "l2 = p1(x, X, i) * f[i] + p2(x, X, i) * f[i+1] + p3(x, X, i) * f[i + 2]\n",
    "\n",
    "ans = (l1 + l2) / 2\n",
    "\n",
    "print(ans)"
   ]
  }
 ],
 "metadata": {
  "kernelspec": {
   "display_name": "Python 3",
   "language": "python",
   "name": "python3"
  },
  "language_info": {
   "codemirror_mode": {
    "name": "ipython",
    "version": 3
   },
   "file_extension": ".py",
   "mimetype": "text/x-python",
   "name": "python",
   "nbconvert_exporter": "python",
   "pygments_lexer": "ipython3",
   "version": "3.11.3"
  }
 },
 "nbformat": 4,
 "nbformat_minor": 2
}
