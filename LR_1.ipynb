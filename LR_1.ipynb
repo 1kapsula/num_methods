{
 "cells": [
  {
   "cell_type": "markdown",
   "metadata": {},
   "source": [
    "Метод половинного деления "
   ]
  },
  {
   "cell_type": "code",
   "execution_count": null,
   "metadata": {},
   "outputs": [],
   "source": [
    "def polinom(n, x, k):\n",
    "    s = 1\n",
    "    for i in range(n-1, -1, -1):\n",
    "        s = s * x + k[i]\n",
    "    return s\n",
    "\n",
    "def dihot(degree, l, r, kf, eps):\n",
    "    while abs(l - r) > eps:\n",
    "        x = (l + r) / 2\n",
    "        p_l = polinom(degree, l, kf)\n",
    "        p_x = polinom(degree, x, kf)\n",
    "        if p_x == 0:\n",
    "            return x\n",
    "        if p_l * p_x < 0:\n",
    "            r = x\n",
    "        else:\n",
    "            l = x\n",
    "    return x\n",
    "\n",
    "def step_up(level, A, B, curr_cnt, eps, n):\n",
    "    m = 0\n",
    "    for i in range(level):\n",
    "        s = abs(A[level][i])\n",
    "        if s > m:\n",
    "            m = s\n",
    "    m += 1.0\n",
    "\n",
    "    curr_cnt[level] = 0\n",
    "\n",
    "    for i in range(curr_cnt[level - 1] + 1):\n",
    "        if i == 0:\n",
    "            edge_left = -m\n",
    "        else:\n",
    "            edge_left = B[level - 1][i - 1]\n",
    "\n",
    "        rb = polinom(level, edge_left, A[level])\n",
    "\n",
    "        if rb == 0:\n",
    "            B[level][curr_cnt[level]] = edge_left\n",
    "            curr_cnt[level] += 1\n",
    "            continue\n",
    "\n",
    "        sign_left = 1 if rb > 0 else -1\n",
    "\n",
    "        if i == curr_cnt[level - 1]:\n",
    "            edge_right = m\n",
    "        else:\n",
    "            edge_right = B[level - 1][i]\n",
    "\n",
    "        rb = polinom(level, edge_right, A[level])\n",
    "        \n",
    "        if rb == 0:\n",
    "            B[level][curr_cnt[level]] = edge_right\n",
    "            curr_cnt[level] += 1\n",
    "            continue\n",
    "\n",
    "        sign_right = 1 if rb > 0 else -1\n",
    "\n",
    "        if sign_left == sign_right:\n",
    "            continue\n",
    "\n",
    "        if sign_left < 0:\n",
    "            l = edge_left\n",
    "            r = edge_right\n",
    "        else:\n",
    "            l = edge_right\n",
    "            r = edge_left\n",
    "        if(level == n): \n",
    "            B[level][curr_cnt[level]] = dihot(level, l, r, A[level], eps)\n",
    "        else:\n",
    "            B[level][curr_cnt[level]] = dihot(level, l, r, A[level], 1e-12)\n",
    "        curr_cnt[level] += 1\n",
    "\n",
    "def polynom_real_roots(n, kf, eps):\n",
    "    A = [[0.0]*(i+1) for i in range(n+1)]\n",
    "    B = [[0.0]*(i+1) for i in range(n+1)]\n",
    "    curr_cnt = [0] * (n + 1)\n",
    "\n",
    "    for i in range(n+1):\n",
    "        A[n][i] = kf[i] / kf[n]\n",
    "\n",
    "    for i1, i in zip(range(n, 0, -1), range(n-1, -1, -1)):\n",
    "        for j1, j in zip(range(i+1, -1, -1), range(i, -1, -1)):\n",
    "            A[i][j] = A[i1][j1] * j1\n",
    "\n",
    "    for i in range(1, n):\n",
    "        for j in range(len(A[i])):\n",
    "            A[i][j] /= A[i][-1]\n",
    "\n",
    "    curr_cnt[1] = 1\n",
    "    \n",
    "    B[1][0] = -A[1][0]\n",
    "    for i in range(2, n+1):\n",
    "        step_up(i, A, B, curr_cnt, eps, n)\n",
    "    roots_cnt = curr_cnt[n]\n",
    "    roots_ans = B[n][:roots_cnt]\n",
    "\n",
    "    return roots_ans, roots_cnt\n",
    "\n",
    "def main():\n",
    "    n = int(input(\"Введите степень полинома: \"))\n",
    "\n",
    "    kf = [0.0] * (n + 1)\n",
    "    print(\"Введите коэффициенты полинома (через пробел начина от наименьшей степени):\")\n",
    "    kf = list(map(float, input().split()))\n",
    "    eps = float(input(\"Введите отклонение: \"))\n",
    "    roots_ans, roots_cnt = polynom_real_roots(n, kf, eps)\n",
    "\n",
    "    print(f\"Количество найденных корней: {roots_cnt}\")\n",
    "    if roots_cnt > 0:\n",
    "        print(\"Корни полинома:\")\n",
    "        for root in roots_ans:\n",
    "            print(root)\n",
    "\n",
    "if __name__ == \"__main__\":\n",
    "    main()\n"
   ]
  },
  {
   "cell_type": "markdown",
   "metadata": {},
   "source": [
    "Тестовые данные:\n",
    "\n",
    "n = 5 - степень полинома\n",
    "\n",
    "kf = -288 -192 118 11 -10 1 // x^5 - 10*x^4 + 11*x^3 + 118*x^2 -192*x - 288 - полином\n",
    "\n",
    "eps = 0.001 - отклонение\n",
    "\n",
    "Корни данного уравнения: 6, 4, 4, -1, -3"
   ]
  },
  {
   "cell_type": "code",
   "execution_count": 208,
   "metadata": {},
   "outputs": [
    {
     "name": "stdout",
     "output_type": "stream",
     "text": [
      "Количество найденных корней: 5\n",
      "Корни полинома:\n",
      "-3.0001396578399504\n",
      "-0.9998927654997674\n",
      "3.999219312710461\n",
      "4.000688281621676\n",
      "5.999728946619766\n"
     ]
    }
   ],
   "source": [
    "n = 5\n",
    "kf = [-288, -192, 118, 11, -10, 1]\n",
    "eps = 0.001\n",
    "roots_ans, roots_cnt = polynom_real_roots(n, kf, eps)\n",
    "\n",
    "print(f\"Количество найденных корней: {roots_cnt}\")\n",
    "if roots_cnt > 0:\n",
    "    print(\"Корни полинома:\")\n",
    "    for root in roots_ans:\n",
    "        print(root)"
   ]
  },
  {
   "cell_type": "markdown",
   "metadata": {},
   "source": [
    "Метод простой итерации"
   ]
  },
  {
   "cell_type": "code",
   "execution_count": 204,
   "metadata": {},
   "outputs": [
    {
     "name": "stdout",
     "output_type": "stream",
     "text": [
      "6.0\n"
     ]
    }
   ],
   "source": [
    "def sqrt_function(value, eps=1e-6):\n",
    "    current_approx = value\n",
    "    while True:\n",
    "        next_approx = 0.5 * (current_approx + value / current_approx)\n",
    "        if abs(next_approx - current_approx) < eps:\n",
    "            return next_approx\n",
    "        current_approx = next_approx"
   ]
  },
  {
   "cell_type": "markdown",
   "metadata": {},
   "source": [
    "Тестовые данные\n",
    "\n",
    "a = 49 // 7^2\n",
    "\n",
    "eps = 1e-6"
   ]
  },
  {
   "cell_type": "code",
   "execution_count": 210,
   "metadata": {},
   "outputs": [
    {
     "name": "stdout",
     "output_type": "stream",
     "text": [
      "7.000000000000002\n"
     ]
    }
   ],
   "source": [
    "a = 49\n",
    "result = sqrt_function(a)\n",
    "print(result)"
   ]
  }
 ],
 "metadata": {
  "kernelspec": {
   "display_name": "Python 3",
   "language": "python",
   "name": "python3"
  },
  "language_info": {
   "codemirror_mode": {
    "name": "ipython",
    "version": 3
   },
   "file_extension": ".py",
   "mimetype": "text/x-python",
   "name": "python",
   "nbconvert_exporter": "python",
   "pygments_lexer": "ipython3",
   "version": "3.11.3"
  },
  "orig_nbformat": 4
 },
 "nbformat": 4,
 "nbformat_minor": 2
}
